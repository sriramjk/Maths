{
  "nbformat": 4,
  "nbformat_minor": 0,
  "metadata": {
    "colab": {
      "provenance": []
    },
    "kernelspec": {
      "name": "python3",
      "display_name": "Python 3"
    },
    "language_info": {
      "name": "python"
    }
  },
  "cells": [
    {
      "cell_type": "code",
      "execution_count": 3,
      "metadata": {
        "id": "Pq31Lw7zuPio"
      },
      "outputs": [],
      "source": [
        "import numpy as np\n",
        "import matplotlib.pyplot as plt"
      ]
    },
    {
      "cell_type": "code",
      "source": [
        "def plot_vectors(vecs):\n",
        "  color = ['r', 'g', 'b', 'y', 'p']\n",
        "  i = 0\n",
        "  for vec in vecs:\n",
        "    plt.quiver(0,0,vec[0],vec[1], scale_units='xy', angles='xy', scale=1, color=color[i%len(color)])\n",
        "    i += 1\n",
        "  plt.xlim(-10, 10)\n",
        "  plt.ylim(-10, 10)\n",
        "  plt.grid()\n",
        "  plt.show()"
      ],
      "metadata": {
        "id": "P03Uy5cMuW4H"
      },
      "execution_count": 4,
      "outputs": []
    },
    {
      "cell_type": "code",
      "source": [
        "vecs = [np.asarray([3, 4]), np.asarray([-3, 4]), np.asarray([-3, -2]), np.asarray([4, -1])]"
      ],
      "metadata": {
        "id": "8YTinmfxucGI"
      },
      "execution_count": 6,
      "outputs": []
    },
    {
      "cell_type": "code",
      "source": [
        "plot_vectors(vecs)"
      ],
      "metadata": {
        "colab": {
          "base_uri": "https://localhost:8080/",
          "height": 435
        },
        "id": "l2q0weI6ut0h",
        "outputId": "c072cb01-1f19-425c-ffa5-57df4e26975a"
      },
      "execution_count": 7,
      "outputs": [
        {
          "output_type": "display_data",
          "data": {
            "text/plain": [
              "<Figure size 640x480 with 1 Axes>"
            ],
            "image/png": "[encoded data removed]"
          },
          "metadata": {}
        }
      ]
    },
    {
      "cell_type": "code",
      "source": [
        "a = np.asarray([3, 4])\n",
        "b = np.asarray([4, -1])"
      ],
      "metadata": {
        "id": "7JlL5OWau16O"
      },
      "execution_count": 17,
      "outputs": []
    },
    {
      "cell_type": "markdown",
      "source": [
        "$\\vec{a}\\cdot\\vec{b} = |\\vec{a}||\\vec{b}|\\cos{\\theta} = a_xb_x + a_yb_y$"
      ],
      "metadata": {
        "id": "se9szT7kvCDg"
      }
    },
    {
      "cell_type": "code",
      "source": [
        "a_dot_b = np.dot(a, b)\n",
        "print(a_dot_b)"
      ],
      "metadata": {
        "colab": {
          "base_uri": "https://localhost:8080/"
        },
        "id": "Xz6a6XYlvS32",
        "outputId": "4b1bde77-dab6-4f8a-ddc3-cfb2a0ce7e42"
      },
      "execution_count": 18,
      "outputs": [
        {
          "output_type": "stream",
          "name": "stdout",
          "text": [
            "8\n"
          ]
        }
      ]
    },
    {
      "cell_type": "markdown",
      "source": [
        "This is the magnitude\n",
        "\n",
        "$a_b=|\\vec{a}|\\cos(\\theta) = |\\vec{a}|\\frac{\\vec{a}\\cdot\\vec{b}}{|\\vec{a}||\\vec{b}|} = \\frac{\\vec{a}\\cdot\\vec{b}}{|\\vec{b}|}$"
      ],
      "metadata": {
        "id": "azOb7jrMvqAn"
      }
    },
    {
      "cell_type": "code",
      "source": [
        "a_b = np.dot(a, b) / np.linalg.norm(b)\n",
        "print(a_b)"
      ],
      "metadata": {
        "colab": {
          "base_uri": "https://localhost:8080/"
        },
        "id": "Kj0mVRv_vnjy",
        "outputId": "67c5e9c1-1219-4911-e2dc-4908cdc34560"
      },
      "execution_count": 19,
      "outputs": [
        {
          "output_type": "stream",
          "name": "stdout",
          "text": [
            "1.9402850002906638\n"
          ]
        }
      ]
    },
    {
      "cell_type": "code",
      "source": [
        "(np.sum(b**2))**0.5"
      ],
      "metadata": {
        "colab": {
          "base_uri": "https://localhost:8080/"
        },
        "id": "i8b1T4tjySDm",
        "outputId": "a16ffca2-1bf4-4970-a3d3-b6acfcf7e8f2"
      },
      "execution_count": 20,
      "outputs": [
        {
          "output_type": "execute_result",
          "data": {
            "text/plain": [
              "np.float64(4.123105625617661)"
            ]
          },
          "metadata": {},
          "execution_count": 20
        }
      ]
    },
    {
      "cell_type": "code",
      "source": [
        "np.linalg.norm(b)"
      ],
      "metadata": {
        "colab": {
          "base_uri": "https://localhost:8080/"
        },
        "id": "07T07YZPyaQw",
        "outputId": "430e6680-8c2a-4725-90b0-742e451a9727"
      },
      "execution_count": 21,
      "outputs": [
        {
          "output_type": "execute_result",
          "data": {
            "text/plain": [
              "np.float64(4.123105625617661)"
            ]
          },
          "metadata": {},
          "execution_count": 21
        }
      ]
    },
    {
      "cell_type": "markdown",
      "source": [
        "$\\vec{a_b} = a_b\\hat{b} = a_b \\frac{\\vec{b}}{|\\vec{b}|}$"
      ],
      "metadata": {
        "id": "uJlsMs_1yhuf"
      }
    },
    {
      "cell_type": "code",
      "source": [
        "res = (a_b/np.linalg.norm(b))*b\n",
        "print(res)"
      ],
      "metadata": {
        "colab": {
          "base_uri": "https://localhost:8080/"
        },
        "id": "6Foer9DPyc0G",
        "outputId": "05334d47-e7ad-4e96-d64d-087d344fb8c3"
      },
      "execution_count": 22,
      "outputs": [
        {
          "output_type": "stream",
          "name": "stdout",
          "text": [
            "[ 1.88235294 -0.47058824]\n"
          ]
        }
      ]
    },
    {
      "cell_type": "code",
      "source": [
        "plot_vectors([a, b, res])"
      ],
      "metadata": {
        "colab": {
          "base_uri": "https://localhost:8080/",
          "height": 435
        },
        "id": "k0DXICmbzDNr",
        "outputId": "b3949594-25b7-4159-bae8-d38f21019a03"
      },
      "execution_count": 23,
      "outputs": [
        {
          "output_type": "display_data",
          "data": {
            "text/plain": [
              "<Figure size 640x480 with 1 Axes>"
            ],
            "image/png": "[encoded data removed]"
          },
          "metadata": {}
        }
      ]
    },
    {
      "cell_type": "code",
      "source": [
        "# let's do it reverse"
      ],
      "metadata": {
        "id": "OY0QGuwNzLj3"
      },
      "execution_count": 24,
      "outputs": []
    },
    {
      "cell_type": "code",
      "source": [
        "a = np.asarray([3, 4])\n",
        "b = np.asarray([4, -1])"
      ],
      "metadata": {
        "id": "LOZuQv9d0JZY"
      },
      "execution_count": 25,
      "outputs": []
    },
    {
      "cell_type": "markdown",
      "source": [
        "This is the magnitude\n",
        "\n",
        "$b_a=|\\vec{b}|\\cos(\\theta) = |\\vec{b}|\\frac{\\vec{a}\\cdot\\vec{b}}{|\\vec{a}||\\vec{b}|} = \\frac{\\vec{a}\\cdot\\vec{b}}{|\\vec{a}|}$"
      ],
      "metadata": {
        "id": "_Db5Wbvy0Qo5"
      }
    },
    {
      "cell_type": "code",
      "source": [
        "b_a = np.dot(a, b) / np.linalg.norm(a)\n",
        "print(b_a)"
      ],
      "metadata": {
        "colab": {
          "base_uri": "https://localhost:8080/"
        },
        "id": "uEqqHIpO0L1S",
        "outputId": "5ba85c9b-b43b-4a4d-e631-5d9d136faff1"
      },
      "execution_count": 26,
      "outputs": [
        {
          "output_type": "stream",
          "name": "stdout",
          "text": [
            "1.6\n"
          ]
        }
      ]
    },
    {
      "cell_type": "markdown",
      "source": [
        "$\\vec{b_a} = b_a\\hat{a} = b_a \\frac{\\vec{a}}{|\\vec{a}|}$"
      ],
      "metadata": {
        "id": "0IjbXfPe0ky6"
      }
    },
    {
      "cell_type": "code",
      "source": [
        "res = (b_a/np.linalg.norm(a))*a\n",
        "print(res)"
      ],
      "metadata": {
        "colab": {
          "base_uri": "https://localhost:8080/"
        },
        "id": "_3XUQmW20g3x",
        "outputId": "e02bd926-057d-4e92-8a81-b14d7710cf1a"
      },
      "execution_count": 27,
      "outputs": [
        {
          "output_type": "stream",
          "name": "stdout",
          "text": [
            "[0.96 1.28]\n"
          ]
        }
      ]
    },
    {
      "cell_type": "code",
      "source": [
        "plot_vectors([a, b, res])"
      ],
      "metadata": {
        "colab": {
          "base_uri": "https://localhost:8080/",
          "height": 435
        },
        "id": "sZ_-KTEy0y0Y",
        "outputId": "9f976a78-cc4c-4bc3-fd4d-312f77382477"
      },
      "execution_count": 28,
      "outputs": [
        {
          "output_type": "display_data",
          "data": {
            "text/plain": [
              "<Figure size 640x480 with 1 Axes>"
            ],
            "image/png": "[encoded data removed]"
          },
          "metadata": {}
        }
      ]
    },
    {
      "cell_type": "code",
      "source": [],
      "metadata": {
        "id": "Hj7RXMUw1Pw3"
      },
      "execution_count": null,
      "outputs": []
    }
  ]
}